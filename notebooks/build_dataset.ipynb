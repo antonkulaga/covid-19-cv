{
 "cells": [
  {
   "cell_type": "markdown",
   "metadata": {
    "language": "text"
   },
   "source": [
    "Processing X-ray from \n",
    "====================="
   ]
  },
  {
   "cell_type": "code",
   "execution_count": 1,
   "metadata": {
    "cell.metadata.exec_info": {
     "endTs": 1584999305424,
     "startTs": 1584999305330
    },
    "language": "python"
   },
   "outputs": [],
   "source": [
    "import os\n",
    "import pandas as pd\n",
    "import shutil\n",
    "pd.options.display.max_colwidth = 10000"
   ]
  },
  {
   "cell_type": "code",
   "execution_count": 2,
   "metadata": {
    "cell.metadata.exec_info": {
     "endTs": 1584999277682,
     "startTs": 1584999277178
    },
    "language": "python"
   },
   "outputs": [],
   "source": [
    "def not_found(path: str) -> bool:\n",
    "    return not os.path.exists(path)    "
   ]
  },
  {
   "cell_type": "code",
   "execution_count": 3,
   "metadata": {
    "cell.metadata.exec_info": {
     "endTs": 1584999277998,
     "startTs": 1584999277691
    },
    "language": "python"
   },
   "outputs": [],
   "source": [
    "git_url = \"https://github.com/ieee8023/covid-chestxray-dataset\""
   ]
  },
  {
   "cell_type": "code",
   "execution_count": 4,
   "metadata": {
    "cell.metadata.exec_info": {
     "endTs": 1584999278319,
     "startTs": 1584999278037
    },
    "language": "python"
   },
   "outputs": [],
   "source": [
    "repo_dir = \"/data/sources/covid-chestxray-dataset\"\n",
    "assert os.path.exists(repo_dir), \"repo_dir should exist!\"\n",
    "image_dir = os.path.join(repo_dir, \"images\")\n",
    "assert os.path.exists(image_dir), \"images should exist!\"\n",
    "data_dir = \"/data/sources/covid-19-cv/data\"\n",
    "if not_found(data_dir):\n",
    "    print(\"the folder \"+dat_dir+\" does not exist! Making it now!\")\n",
    "    os.makedirs(data_dir)"
   ]
  },
  {
   "cell_type": "code",
   "execution_count": 5,
   "metadata": {
    "cell.metadata.exec_info": {
     "endTs": 1584999279459,
     "startTs": 1584999278331
    },
    "language": "python"
   },
   "outputs": [
    {
     "name": "stdout",
     "output_type": "stream",
     "text": [
      "/data/sources/covid-chestxray-dataset exists!\n",
      "git pulling from https://github.com/ieee8023/covid-chestxray-datasetto update it\n",
      "pulling finished\n"
     ]
    }
   ],
   "source": [
    "import git\n",
    "from git import Repo\n",
    "git_url = \"https://github.com/ieee8023/covid-chestxray-dataset\"\n",
    "if os.path.exists(repo_dir):\n",
    "    print(repo_dir + \" exists!\")\n",
    "    print(\"git pulling from \"+git_url+\"to update it\")\n",
    "    g = git.cmd.Git(repo_dir)\n",
    "    g.pull()\n",
    "    print(\"pulling finished\")\n",
    "else:\n",
    "    print(\"git cloning repository with data to \"+repo_dir)\n",
    "    Repo.clone_from(git_url, repo_dir)\n",
    "    print(\"clonning finished\")"
   ]
  },
  {
   "cell_type": "code",
   "execution_count": 6,
   "metadata": {
    "cell.metadata.exec_info": {
     "endTs": 1584999282152,
     "startTs": 1584999281997
    },
    "language": "python"
   },
   "outputs": [],
   "source": [
    "metadata_path = os.path.sep.join([repo_dir, \"metadata.csv\"])"
   ]
  },
  {
   "cell_type": "code",
   "execution_count": 7,
   "metadata": {
    "cell.metadata.exec_info": {
     "endTs": 1584999319642,
     "startTs": 1584999319232
    },
    "language": "python"
   },
   "outputs": [
    {
     "data": {
      "text/html": [
       "<div>\n",
       "<style scoped>\n",
       "    .dataframe tbody tr th:only-of-type {\n",
       "        vertical-align: middle;\n",
       "    }\n",
       "\n",
       "    .dataframe tbody tr th {\n",
       "        vertical-align: top;\n",
       "    }\n",
       "\n",
       "    .dataframe thead th {\n",
       "        text-align: right;\n",
       "    }\n",
       "</style>\n",
       "<table border=\"1\" class=\"dataframe\">\n",
       "  <thead>\n",
       "    <tr style=\"text-align: right;\">\n",
       "      <th></th>\n",
       "      <th>Patientid</th>\n",
       "      <th>offset</th>\n",
       "      <th>sex</th>\n",
       "      <th>age</th>\n",
       "      <th>finding</th>\n",
       "      <th>survival</th>\n",
       "      <th>view</th>\n",
       "      <th>modality</th>\n",
       "      <th>date</th>\n",
       "      <th>location</th>\n",
       "      <th>filename</th>\n",
       "      <th>doi</th>\n",
       "      <th>url</th>\n",
       "      <th>license</th>\n",
       "      <th>clinical notes</th>\n",
       "      <th>other notes</th>\n",
       "      <th>Unnamed: 16</th>\n",
       "    </tr>\n",
       "  </thead>\n",
       "  <tbody>\n",
       "    <tr>\n",
       "      <th>0</th>\n",
       "      <td>2</td>\n",
       "      <td>0.0</td>\n",
       "      <td>M</td>\n",
       "      <td>65.0</td>\n",
       "      <td>COVID-19</td>\n",
       "      <td>Y</td>\n",
       "      <td>PA</td>\n",
       "      <td>X-ray</td>\n",
       "      <td>2020</td>\n",
       "      <td>NaN</td>\n",
       "      <td>auntminnie-a-2020_01_28_23_51_6665_2020_01_28_Vietnam_coronavirus.jpeg</td>\n",
       "      <td>10.1056/nejmc2001272</td>\n",
       "      <td>https://www.nejm.org/doi/full/10.1056/NEJMc2001272</td>\n",
       "      <td>NaN</td>\n",
       "      <td>NaN</td>\n",
       "      <td>NaN</td>\n",
       "      <td>NaN</td>\n",
       "    </tr>\n",
       "    <tr>\n",
       "      <th>1</th>\n",
       "      <td>2</td>\n",
       "      <td>3.0</td>\n",
       "      <td>M</td>\n",
       "      <td>65.0</td>\n",
       "      <td>COVID-19</td>\n",
       "      <td>Y</td>\n",
       "      <td>PA</td>\n",
       "      <td>X-ray</td>\n",
       "      <td>2020</td>\n",
       "      <td>NaN</td>\n",
       "      <td>auntminnie-b-2020_01_28_23_51_6665_2020_01_28_Vietnam_coronavirus.jpeg</td>\n",
       "      <td>10.1056/nejmc2001272</td>\n",
       "      <td>https://www.nejm.org/doi/full/10.1056/NEJMc2001272</td>\n",
       "      <td>NaN</td>\n",
       "      <td>NaN</td>\n",
       "      <td>NaN</td>\n",
       "      <td>NaN</td>\n",
       "    </tr>\n",
       "    <tr>\n",
       "      <th>2</th>\n",
       "      <td>2</td>\n",
       "      <td>5.0</td>\n",
       "      <td>M</td>\n",
       "      <td>65.0</td>\n",
       "      <td>COVID-19</td>\n",
       "      <td>Y</td>\n",
       "      <td>PA</td>\n",
       "      <td>X-ray</td>\n",
       "      <td>2020</td>\n",
       "      <td>NaN</td>\n",
       "      <td>auntminnie-c-2020_01_28_23_51_6665_2020_01_28_Vietnam_coronavirus.jpeg</td>\n",
       "      <td>10.1056/nejmc2001272</td>\n",
       "      <td>https://www.nejm.org/doi/full/10.1056/NEJMc2001272</td>\n",
       "      <td>NaN</td>\n",
       "      <td>NaN</td>\n",
       "      <td>NaN</td>\n",
       "      <td>NaN</td>\n",
       "    </tr>\n",
       "    <tr>\n",
       "      <th>3</th>\n",
       "      <td>2</td>\n",
       "      <td>6.0</td>\n",
       "      <td>M</td>\n",
       "      <td>65.0</td>\n",
       "      <td>COVID-19</td>\n",
       "      <td>Y</td>\n",
       "      <td>PA</td>\n",
       "      <td>X-ray</td>\n",
       "      <td>2020</td>\n",
       "      <td>NaN</td>\n",
       "      <td>auntminnie-d-2020_01_28_23_51_6665_2020_01_28_Vietnam_coronavirus.jpeg</td>\n",
       "      <td>10.1056/nejmc2001272</td>\n",
       "      <td>https://www.nejm.org/doi/full/10.1056/NEJMc2001272</td>\n",
       "      <td>NaN</td>\n",
       "      <td>NaN</td>\n",
       "      <td>NaN</td>\n",
       "      <td>NaN</td>\n",
       "    </tr>\n",
       "    <tr>\n",
       "      <th>4</th>\n",
       "      <td>4</td>\n",
       "      <td>0.0</td>\n",
       "      <td>F</td>\n",
       "      <td>52.0</td>\n",
       "      <td>COVID-19</td>\n",
       "      <td>NaN</td>\n",
       "      <td>PA</td>\n",
       "      <td>X-ray</td>\n",
       "      <td>2020</td>\n",
       "      <td>Changhua Christian Hospital, Changhua City, Taiwan</td>\n",
       "      <td>nejmc2001573_f1a.jpeg</td>\n",
       "      <td>10.1056/NEJMc2001573</td>\n",
       "      <td>https://www.nejm.org/doi/full/10.1056/NEJMc2001573</td>\n",
       "      <td>NaN</td>\n",
       "      <td>diffuse infiltrates in the bilateral lower lungs</td>\n",
       "      <td>NaN</td>\n",
       "      <td>NaN</td>\n",
       "    </tr>\n",
       "  </tbody>\n",
       "</table>\n",
       "</div>"
      ],
      "text/plain": [
       "   Patientid  offset sex   age   finding survival view modality  date  \\\n",
       "0          2     0.0   M  65.0  COVID-19        Y   PA    X-ray  2020   \n",
       "1          2     3.0   M  65.0  COVID-19        Y   PA    X-ray  2020   \n",
       "2          2     5.0   M  65.0  COVID-19        Y   PA    X-ray  2020   \n",
       "3          2     6.0   M  65.0  COVID-19        Y   PA    X-ray  2020   \n",
       "4          4     0.0   F  52.0  COVID-19      NaN   PA    X-ray  2020   \n",
       "\n",
       "                                              location  \\\n",
       "0                                                  NaN   \n",
       "1                                                  NaN   \n",
       "2                                                  NaN   \n",
       "3                                                  NaN   \n",
       "4  Changhua Christian Hospital, Changhua City, Taiwan    \n",
       "\n",
       "                                                                 filename  \\\n",
       "0  auntminnie-a-2020_01_28_23_51_6665_2020_01_28_Vietnam_coronavirus.jpeg   \n",
       "1  auntminnie-b-2020_01_28_23_51_6665_2020_01_28_Vietnam_coronavirus.jpeg   \n",
       "2  auntminnie-c-2020_01_28_23_51_6665_2020_01_28_Vietnam_coronavirus.jpeg   \n",
       "3  auntminnie-d-2020_01_28_23_51_6665_2020_01_28_Vietnam_coronavirus.jpeg   \n",
       "4                                                   nejmc2001573_f1a.jpeg   \n",
       "\n",
       "                    doi                                                 url  \\\n",
       "0  10.1056/nejmc2001272  https://www.nejm.org/doi/full/10.1056/NEJMc2001272   \n",
       "1  10.1056/nejmc2001272  https://www.nejm.org/doi/full/10.1056/NEJMc2001272   \n",
       "2  10.1056/nejmc2001272  https://www.nejm.org/doi/full/10.1056/NEJMc2001272   \n",
       "3  10.1056/nejmc2001272  https://www.nejm.org/doi/full/10.1056/NEJMc2001272   \n",
       "4  10.1056/NEJMc2001573  https://www.nejm.org/doi/full/10.1056/NEJMc2001573   \n",
       "\n",
       "  license                                    clinical notes other notes  \\\n",
       "0     NaN                                               NaN         NaN   \n",
       "1     NaN                                               NaN         NaN   \n",
       "2     NaN                                               NaN         NaN   \n",
       "3     NaN                                               NaN         NaN   \n",
       "4     NaN  diffuse infiltrates in the bilateral lower lungs         NaN   \n",
       "\n",
       "  Unnamed: 16  \n",
       "0         NaN  \n",
       "1         NaN  \n",
       "2         NaN  \n",
       "3         NaN  \n",
       "4         NaN  "
      ]
     },
     "execution_count": 7,
     "metadata": {},
     "output_type": "execute_result"
    }
   ],
   "source": [
    "metadata = pd.read_csv(metadata_path)\n",
    "metadata.head(5)"
   ]
  },
  {
   "cell_type": "code",
   "execution_count": 11,
   "metadata": {
    "cell.metadata.exec_info": {
     "startTs": 1584999347182
    },
    "language": "python"
   },
   "outputs": [],
   "source": [
    "def copy_images(df: pd.DataFrame, image_dir: str, data_dir: str) -> pd.DataFrame:\n",
    "    df['path'] = df.apply(lambda row: os.path.join(data_dir,row[\"view\"].replace(\" \", \"_\"), row[\"finding\"].replace(\" \", \"_\"), row.filename), axis=1)\n",
    "    for (i, row) in df.iterrows():\n",
    "        from_image = os.path.join(image_dir, row[\"filename\"])        \n",
    "        to_image = row[\"path\"]        \n",
    "        p = os.path.dirname(to_image)\n",
    "        if(not_found(p)):\n",
    "            print(p+\" not found, creating it!\")\n",
    "            os.makedirs(p)            \n",
    "        if(not_found(to_image)):            \n",
    "            shutil.copy2(from_image, to_image)\n",
    "        #else:\n",
    "        #    print(to_image + \" already exists!\")            \n",
    "    return df        "
   ]
  },
  {
   "cell_type": "code",
   "execution_count": 14,
   "metadata": {
    "cell.metadata.exec_info": {
     "endTs": 1584999208689,
     "startTs": 1584999208676
    },
    "language": "python"
   },
   "outputs": [
    {
     "data": {
      "text/plain": [
       "0    /data/sources/covid-19-cv/data/PA/COVID-19/auntminnie-a-2020_01_28_23_51_6665_2020_01_28_Vietnam_coronavirus.jpeg\n",
       "1    /data/sources/covid-19-cv/data/PA/COVID-19/auntminnie-b-2020_01_28_23_51_6665_2020_01_28_Vietnam_coronavirus.jpeg\n",
       "2    /data/sources/covid-19-cv/data/PA/COVID-19/auntminnie-c-2020_01_28_23_51_6665_2020_01_28_Vietnam_coronavirus.jpeg\n",
       "3    /data/sources/covid-19-cv/data/PA/COVID-19/auntminnie-d-2020_01_28_23_51_6665_2020_01_28_Vietnam_coronavirus.jpeg\n",
       "4                                                     /data/sources/covid-19-cv/data/PA/COVID-19/nejmc2001573_f1a.jpeg\n",
       "5                                                     /data/sources/covid-19-cv/data/PA/COVID-19/nejmc2001573_f1b.jpeg\n",
       "6                                                                /data/sources/covid-19-cv/data/PA/ARDS/ARDSSevere.png\n",
       "7                                                         /data/sources/covid-19-cv/data/PA/COVID-19/lancet-case2a.jpg\n",
       "8                                                         /data/sources/covid-19-cv/data/PA/COVID-19/lancet-case2b.jpg\n",
       "9                            /data/sources/covid-19-cv/data/PA/SARS/SARS-10.1148rg.242035193-g04mr34g0-Fig8a-day0.jpeg\n",
       "Name: path, dtype: object"
      ]
     },
     "execution_count": 14,
     "metadata": {},
     "output_type": "execute_result"
    }
   ],
   "source": [
    "df = copy_images(metadata, image_dir, data_dir)\n",
    "df.path.head(10)"
   ]
  },
  {
   "cell_type": "code",
   "execution_count": 18,
   "metadata": {},
   "outputs": [],
   "source": [
    "df.to_csv (os.path.join(data_dir, \"metadata.csv\"), index = False, header=True)"
   ]
  },
  {
   "cell_type": "code",
   "execution_count": null,
   "metadata": {},
   "outputs": [],
   "source": []
  }
 ],
 "metadata": {
  "kernelspec": {
   "display_name": "Python 3",
   "language": "python",
   "name": "python3"
  },
  "language_info": {
   "codemirror_mode": {
    "name": "ipython",
    "version": 3
   },
   "file_extension": ".py",
   "mimetype": "text/x-python",
   "name": "python",
   "nbconvert_exporter": "python",
   "pygments_lexer": "ipython3",
   "version": "3.7.6"
  }
 },
 "nbformat": 4,
 "nbformat_minor": 4
}
